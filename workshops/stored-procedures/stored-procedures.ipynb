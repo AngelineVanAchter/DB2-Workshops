{
    "metadata": {
        "kernelspec": {
            "name": "SQL",
            "display_name": "SQL",
            "language": "sql"
        },
        "language_info": {
            "name": "sql",
            "version": ""
        }
    },
    "nbformat_minor": 2,
    "nbformat": 4,
    "cells": [
        {
            "cell_type": "markdown",
            "source": "# Stored Procedures\r\n## Case\r\nFor our business we'd like to see which products are out of stock. So we can make sure to order some extra in the next delivery run. \r\n",
            "metadata": {}
        },
        {
            "cell_type": "markdown",
            "source": "## How does the data look like?\r\nFirst of all we need to know what the rows in the tables `Product` and `Supplier` contain.",
            "metadata": {}
        },
        {
            "cell_type": "code",
            "source": "-- Product Table Example\r\nSELECT TOP 3 * FROM Product\r\n-- Supplier Table Example\r\nSELECT TOP 3 * FROM Supplier",
            "metadata": {},
            "outputs": [
                {
                    "output_type": "display_data",
                    "data": {
                        "text/html": "(3 rows affected)"
                    },
                    "metadata": {}
                },
                {
                    "output_type": "display_data",
                    "data": {
                        "text/html": "(3 rows affected)"
                    },
                    "metadata": {}
                },
                {
                    "output_type": "display_data",
                    "data": {
                        "text/html": "Total execution time: 00:00:00.0208213"
                    },
                    "metadata": {}
                },
                {
                    "output_type": "execute_result",
                    "metadata": {},
                    "execution_count": 39,
                    "data": {
                        "application/vnd.dataresource+json": {
                            "schema": {
                                "fields": [
                                    {
                                        "name": "ProductID"
                                    },
                                    {
                                        "name": "ProductName"
                                    },
                                    {
                                        "name": "Color"
                                    },
                                    {
                                        "name": "Sizes"
                                    },
                                    {
                                        "name": "M_F"
                                    },
                                    {
                                        "name": "Price"
                                    },
                                    {
                                        "name": "ProductTypeID"
                                    },
                                    {
                                        "name": "ProductClassID"
                                    },
                                    {
                                        "name": "SupplierID"
                                    },
                                    {
                                        "name": "ReorderLevel"
                                    },
                                    {
                                        "name": "UnitsInStock"
                                    }
                                ]
                            },
                            "data": [
                                {
                                    "0": "1101",
                                    "1": "Active Outdoors Crochet Glove",
                                    "2": "NULL",
                                    "3": "xsm",
                                    "4": "NULL",
                                    "5": "15.09",
                                    "6": "5",
                                    "7": "1",
                                    "8": "1",
                                    "9": "300",
                                    "10": "220"
                                },
                                {
                                    "0": "1102",
                                    "1": "Active Outdoors Crochet Glove",
                                    "2": "NULL",
                                    "3": "sm",
                                    "4": "NULL",
                                    "5": "15.09",
                                    "6": "5",
                                    "7": "1",
                                    "8": "1",
                                    "9": "300",
                                    "10": "450"
                                },
                                {
                                    "0": "1103",
                                    "1": "Active Outdoors Crochet Glove",
                                    "2": "NULL",
                                    "3": "med",
                                    "4": "NULL",
                                    "5": "15.09",
                                    "6": "5",
                                    "7": "1",
                                    "8": "1",
                                    "9": "300",
                                    "10": "NULL"
                                }
                            ]
                        },
                        "text/html": "<table><tr><th>ProductID</th><th>ProductName</th><th>Color</th><th>Sizes</th><th>M_F</th><th>Price</th><th>ProductTypeID</th><th>ProductClassID</th><th>SupplierID</th><th>ReorderLevel</th><th>UnitsInStock</th></tr><tr><td>1101</td><td>Active Outdoors Crochet Glove</td><td>NULL</td><td>xsm</td><td>NULL</td><td>15.09</td><td>5</td><td>1</td><td>1</td><td>300</td><td>220</td></tr><tr><td>1102</td><td>Active Outdoors Crochet Glove</td><td>NULL</td><td>sm</td><td>NULL</td><td>15.09</td><td>5</td><td>1</td><td>1</td><td>300</td><td>450</td></tr><tr><td>1103</td><td>Active Outdoors Crochet Glove</td><td>NULL</td><td>med</td><td>NULL</td><td>15.09</td><td>5</td><td>1</td><td>1</td><td>300</td><td>NULL</td></tr></table>"
                    }
                },
                {
                    "output_type": "execute_result",
                    "metadata": {},
                    "execution_count": 39,
                    "data": {
                        "application/vnd.dataresource+json": {
                            "schema": {
                                "fields": [
                                    {
                                        "name": "SupplierID"
                                    },
                                    {
                                        "name": "SupplierName"
                                    },
                                    {
                                        "name": "Address"
                                    },
                                    {
                                        "name": "City"
                                    },
                                    {
                                        "name": "Region"
                                    },
                                    {
                                        "name": "Country"
                                    },
                                    {
                                        "name": "PostalCode"
                                    },
                                    {
                                        "name": "Phone"
                                    }
                                ]
                            },
                            "data": [
                                {
                                    "0": "1",
                                    "1": "Active Outdoors",
                                    "2": "8th Avenue",
                                    "3": "Bend",
                                    "4": "OR",
                                    "5": "USA",
                                    "6": "97101",
                                    "7": "503 555-9931"
                                },
                                {
                                    "0": "2",
                                    "1": "Triumph",
                                    "2": "707 Oxford Rd.",
                                    "3": "Ann Arbor",
                                    "4": "MI",
                                    "5": "USA",
                                    "6": "48104",
                                    "7": "313 555-5735"
                                },
                                {
                                    "0": "3",
                                    "1": "Guardian",
                                    "2": "9-8 Sekimai",
                                    "3": "Tokyo",
                                    "4": "NULL",
                                    "5": "Japan",
                                    "6": "100",
                                    "7": "81 3 3555-5011"
                                }
                            ]
                        },
                        "text/html": "<table><tr><th>SupplierID</th><th>SupplierName</th><th>Address</th><th>City</th><th>Region</th><th>Country</th><th>PostalCode</th><th>Phone</th></tr><tr><td>1</td><td>Active Outdoors</td><td>8th Avenue</td><td>Bend</td><td>OR</td><td>USA</td><td>97101</td><td>503 555-9931</td></tr><tr><td>2</td><td>Triumph</td><td>707 Oxford Rd.</td><td>Ann Arbor</td><td>MI</td><td>USA</td><td>48104</td><td>313 555-5735</td></tr><tr><td>3</td><td>Guardian</td><td>9-8 Sekimai</td><td>Tokyo</td><td>NULL</td><td>Japan</td><td>100</td><td>81 3 3555-5011</td></tr></table>"
                    }
                }
            ],
            "execution_count": 39
        },
        {
            "cell_type": "markdown",
            "source": "The query that could tackle this problem is the one below.",
            "metadata": {}
        },
        {
            "cell_type": "code",
            "source": "SELECT\r\n    ProductID as ID,\r\n    ProductName as Name,\r\n    UnitsInStock as Stock\r\nFROM Product\r\nWHERE UnitsInStock < 250",
            "metadata": {},
            "outputs": [
                {
                    "output_type": "display_data",
                    "data": {
                        "text/html": "(104 rows affected)"
                    },
                    "metadata": {}
                },
                {
                    "output_type": "display_data",
                    "data": {
                        "text/html": "Total execution time: 00:00:00.0413280"
                    },
                    "metadata": {}
                },
                {
                    "output_type": "execute_result",
                    "metadata": {},
                    "execution_count": 40,
                    "data": {
                        "application/vnd.dataresource+json": {
                            "schema": {
                                "fields": [
                                    {
                                        "name": "ID"
                                    },
                                    {
                                        "name": "Name"
                                    },
                                    {
                                        "name": "Stock"
                                    }
                                ]
                            },
                            "data": [
                                {
                                    "0": "1101",
                                    "1": "Active Outdoors Crochet Glove",
                                    "2": "220"
                                },
                                {
                                    "0": "1104",
                                    "1": "Active Outdoors Crochet Glove",
                                    "2": "5"
                                },
                                {
                                    "0": "1110",
                                    "1": "Active Outdoors Lycra Glove",
                                    "2": "112"
                                },
                                {
                                    "0": "2201",
                                    "1": "Triumph Pro Helmet",
                                    "2": "78"
                                },
                                {
                                    "0": "2202",
                                    "1": "Triumph Pro Helmet",
                                    "2": "80"
                                },
                                {
                                    "0": "2203",
                                    "1": "Triumph Pro Helmet",
                                    "2": "55"
                                },
                                {
                                    "0": "2204",
                                    "1": "Triumph Pro Helmet",
                                    "2": "169"
                                },
                                {
                                    "0": "2205",
                                    "1": "Triumph Pro Helmet",
                                    "2": "200"
                                },
                                {
                                    "0": "2206",
                                    "1": "Triumph Pro Helmet",
                                    "2": "168"
                                },
                                {
                                    "0": "2207",
                                    "1": "Triumph Vertigo Helmet",
                                    "2": "89"
                                },
                                {
                                    "0": "2208",
                                    "1": "Triumph Vertigo Helmet",
                                    "2": "125"
                                },
                                {
                                    "0": "2209",
                                    "1": "Triumph Vertigo Helmet",
                                    "2": "220"
                                },
                                {
                                    "0": "2210",
                                    "1": "Triumph Vertigo Helmet",
                                    "2": "150"
                                },
                                {
                                    "0": "2211",
                                    "1": "Triumph Vertigo Helmet",
                                    "2": "92"
                                },
                                {
                                    "0": "2212",
                                    "1": "Triumph Vertigo Helmet",
                                    "2": "187"
                                },
                                {
                                    "0": "2214",
                                    "1": "Triumph Vertigo Helmet",
                                    "2": "224"
                                },
                                {
                                    "0": "2215",
                                    "1": "Triumph Vertigo Helmet",
                                    "2": "69"
                                },
                                {
                                    "0": "3301",
                                    "1": "Guardian Chain Lock",
                                    "2": "110"
                                },
                                {
                                    "0": "3302",
                                    "1": "Guardian \"U\" Lock",
                                    "2": "22"
                                },
                                {
                                    "0": "3303",
                                    "1": "Guardian XL \"U\" Lock",
                                    "2": "154"
                                },
                                {
                                    "0": "3304",
                                    "1": "Guardian ATB Lock",
                                    "2": "56"
                                },
                                {
                                    "0": "3305",
                                    "1": "Guardian Mini Lock",
                                    "2": "87"
                                },
                                {
                                    "0": "4102",
                                    "1": "InFlux Crochet Glove",
                                    "2": "198"
                                },
                                {
                                    "0": "4103",
                                    "1": "InFlux Crochet Glove",
                                    "2": "0"
                                },
                                {
                                    "0": "5201",
                                    "1": "Xtreme Adult Helmet",
                                    "2": "0"
                                },
                                {
                                    "0": "5202",
                                    "1": "Xtreme Adult Helmet",
                                    "2": "0"
                                },
                                {
                                    "0": "5203",
                                    "1": "Xtreme Adult Helmet",
                                    "2": "0"
                                },
                                {
                                    "0": "5204",
                                    "1": "Xtreme Adult Helmet",
                                    "2": "0"
                                },
                                {
                                    "0": "5205",
                                    "1": "Xtreme Adult Helmet",
                                    "2": "0"
                                },
                                {
                                    "0": "5206",
                                    "1": "Xtreme Adult Helmet",
                                    "2": "0"
                                },
                                {
                                    "0": "5207",
                                    "1": "Xtreme Youth Helmet",
                                    "2": "0"
                                },
                                {
                                    "0": "5208",
                                    "1": "Xtreme Youth Helmet",
                                    "2": "0"
                                },
                                {
                                    "0": "5301",
                                    "1": "Xtreme Mtn Lock",
                                    "2": "0"
                                },
                                {
                                    "0": "5302",
                                    "1": "Xtreme Rhino Lock",
                                    "2": "0"
                                },
                                {
                                    "0": "5303",
                                    "1": "Xtreme Titan Lock",
                                    "2": "0"
                                },
                                {
                                    "0": "5401",
                                    "1": "Xtreme Anatomic Mens Saddle",
                                    "2": "0"
                                },
                                {
                                    "0": "5402",
                                    "1": "Xtreme Anatomic Ladies Saddle",
                                    "2": "0"
                                },
                                {
                                    "0": "5403",
                                    "1": "Xtreme Wide MTB Saddle",
                                    "2": "0"
                                },
                                {
                                    "0": "5404",
                                    "1": "Xtreme Gellite Mens Saddle",
                                    "2": "0"
                                },
                                {
                                    "0": "5405",
                                    "1": "Xtreme Gellite  Ladies Saddle",
                                    "2": "0"
                                },
                                {
                                    "0": "6401",
                                    "1": "Roadster Jr BMX Saddle",
                                    "2": "75"
                                },
                                {
                                    "0": "6402",
                                    "1": "Roadster Micro Mtn Saddle",
                                    "2": "124"
                                },
                                {
                                    "0": "6403",
                                    "1": "Roadster Mini Mtn Saddle",
                                    "2": "165"
                                },
                                {
                                    "0": "7401",
                                    "1": "Vesper Comfort ATB Saddle",
                                    "2": "41"
                                },
                                {
                                    "0": "7402",
                                    "1": "Vesper Comfort Ladies Saddle",
                                    "2": "69"
                                },
                                {
                                    "0": "7403",
                                    "1": "Vesper Gelflex ATB Saddle",
                                    "2": "88"
                                },
                                {
                                    "0": "7404",
                                    "1": "Vesper Gelflex Ladies Saddle",
                                    "2": "97"
                                },
                                {
                                    "0": "101151",
                                    "1": "Descent",
                                    "2": "0"
                                },
                                {
                                    "0": "101152",
                                    "1": "Descent",
                                    "2": "0"
                                },
                                {
                                    "0": "101171",
                                    "1": "Descent",
                                    "2": "0"
                                },
                                {
                                    "0": "101172",
                                    "1": "Descent",
                                    "2": "0"
                                },
                                {
                                    "0": "101181",
                                    "1": "Descent",
                                    "2": "0"
                                },
                                {
                                    "0": "101182",
                                    "1": "Descent",
                                    "2": "0"
                                },
                                {
                                    "0": "101201",
                                    "1": "Descent",
                                    "2": "0"
                                },
                                {
                                    "0": "101202",
                                    "1": "Descent",
                                    "2": "0"
                                },
                                {
                                    "0": "101221",
                                    "1": "Descent",
                                    "2": "0"
                                },
                                {
                                    "0": "101222",
                                    "1": "Descent",
                                    "2": "0"
                                },
                                {
                                    "0": "102151",
                                    "1": "Mozzie",
                                    "2": "0"
                                },
                                {
                                    "0": "102171",
                                    "1": "Mozzie",
                                    "2": "0"
                                },
                                {
                                    "0": "102181",
                                    "1": "Mozzie",
                                    "2": "0"
                                },
                                {
                                    "0": "102201",
                                    "1": "Mozzie",
                                    "2": "0"
                                },
                                {
                                    "0": "102221",
                                    "1": "Mozzie",
                                    "2": "0"
                                },
                                {
                                    "0": "103151",
                                    "1": "Endorphin",
                                    "2": "0"
                                },
                                {
                                    "0": "103171",
                                    "1": "Endorphin",
                                    "2": "0"
                                },
                                {
                                    "0": "103181",
                                    "1": "Endorphin",
                                    "2": "0"
                                },
                                {
                                    "0": "103201",
                                    "1": "Endorphin",
                                    "2": "0"
                                },
                                {
                                    "0": "103221",
                                    "1": "Endorphin",
                                    "2": "0"
                                },
                                {
                                    "0": "201161",
                                    "1": "Romeo",
                                    "2": "0"
                                },
                                {
                                    "0": "201181",
                                    "1": "Romeo",
                                    "2": "0"
                                },
                                {
                                    "0": "201201",
                                    "1": "Romeo",
                                    "2": "0"
                                },
                                {
                                    "0": "201221",
                                    "1": "Romeo",
                                    "2": "0"
                                },
                                {
                                    "0": "202161",
                                    "1": "Wheeler",
                                    "2": "0"
                                },
                                {
                                    "0": "202181",
                                    "1": "Wheeler",
                                    "2": "0"
                                },
                                {
                                    "0": "202201",
                                    "1": "Wheeler",
                                    "2": "0"
                                },
                                {
                                    "0": "202221",
                                    "1": "Wheeler",
                                    "2": "0"
                                },
                                {
                                    "0": "301151",
                                    "1": "SlickRock",
                                    "2": "0"
                                },
                                {
                                    "0": "301161",
                                    "1": "SlickRock",
                                    "2": "0"
                                },
                                {
                                    "0": "301181",
                                    "1": "SlickRock",
                                    "2": "0"
                                },
                                {
                                    "0": "301201",
                                    "1": "SlickRock",
                                    "2": "0"
                                },
                                {
                                    "0": "301221",
                                    "1": "SlickRock",
                                    "2": "0"
                                },
                                {
                                    "0": "302161",
                                    "1": "Rapel",
                                    "2": "0"
                                },
                                {
                                    "0": "302162",
                                    "1": "Rapel",
                                    "2": "0"
                                },
                                {
                                    "0": "302181",
                                    "1": "Rapel",
                                    "2": "0"
                                },
                                {
                                    "0": "302182",
                                    "1": "Rapel",
                                    "2": "0"
                                },
                                {
                                    "0": "302201",
                                    "1": "Rapel",
                                    "2": "0"
                                },
                                {
                                    "0": "302202",
                                    "1": "Rapel",
                                    "2": "0"
                                },
                                {
                                    "0": "302221",
                                    "1": "Rapel",
                                    "2": "0"
                                },
                                {
                                    "0": "302222",
                                    "1": "Rapel",
                                    "2": "0"
                                },
                                {
                                    "0": "303151",
                                    "1": "Nicros",
                                    "2": "0"
                                },
                                {
                                    "0": "303152",
                                    "1": "Nicros",
                                    "2": "0"
                                },
                                {
                                    "0": "303161",
                                    "1": "Nicros",
                                    "2": "0"
                                },
                                {
                                    "0": "303162",
                                    "1": "Nicros",
                                    "2": "0"
                                },
                                {
                                    "0": "303181",
                                    "1": "Nicros",
                                    "2": "0"
                                },
                                {
                                    "0": "303182",
                                    "1": "Nicros",
                                    "2": "0"
                                },
                                {
                                    "0": "303201",
                                    "1": "Nicros",
                                    "2": "0"
                                },
                                {
                                    "0": "303202",
                                    "1": "Nicros",
                                    "2": "0"
                                },
                                {
                                    "0": "303221",
                                    "1": "Nicros",
                                    "2": "0"
                                },
                                {
                                    "0": "303222",
                                    "1": "Nicros",
                                    "2": "0"
                                },
                                {
                                    "0": "401001",
                                    "1": "Mini Nicros",
                                    "2": "0"
                                },
                                {
                                    "0": "401002",
                                    "1": "Mini Nicros",
                                    "2": "0"
                                },
                                {
                                    "0": "402001",
                                    "1": "Micro Nicros",
                                    "2": "0"
                                },
                                {
                                    "0": "402002",
                                    "1": "Micro Nicros",
                                    "2": "0"
                                },
                                {
                                    "0": "402003",
                                    "1": "Micro Nicros",
                                    "2": "4"
                                },
                                {
                                    "0": "403000",
                                    "1": "Micro Nicros",
                                    "2": "0"
                                }
                            ]
                        },
                        "text/html": "<table><tr><th>ID</th><th>Name</th><th>Stock</th></tr><tr><td>1101</td><td>Active Outdoors Crochet Glove</td><td>220</td></tr><tr><td>1104</td><td>Active Outdoors Crochet Glove</td><td>5</td></tr><tr><td>1110</td><td>Active Outdoors Lycra Glove</td><td>112</td></tr><tr><td>2201</td><td>Triumph Pro Helmet</td><td>78</td></tr><tr><td>2202</td><td>Triumph Pro Helmet</td><td>80</td></tr><tr><td>2203</td><td>Triumph Pro Helmet</td><td>55</td></tr><tr><td>2204</td><td>Triumph Pro Helmet</td><td>169</td></tr><tr><td>2205</td><td>Triumph Pro Helmet</td><td>200</td></tr><tr><td>2206</td><td>Triumph Pro Helmet</td><td>168</td></tr><tr><td>2207</td><td>Triumph Vertigo Helmet</td><td>89</td></tr><tr><td>2208</td><td>Triumph Vertigo Helmet</td><td>125</td></tr><tr><td>2209</td><td>Triumph Vertigo Helmet</td><td>220</td></tr><tr><td>2210</td><td>Triumph Vertigo Helmet</td><td>150</td></tr><tr><td>2211</td><td>Triumph Vertigo Helmet</td><td>92</td></tr><tr><td>2212</td><td>Triumph Vertigo Helmet</td><td>187</td></tr><tr><td>2214</td><td>Triumph Vertigo Helmet</td><td>224</td></tr><tr><td>2215</td><td>Triumph Vertigo Helmet</td><td>69</td></tr><tr><td>3301</td><td>Guardian Chain Lock</td><td>110</td></tr><tr><td>3302</td><td>Guardian &quot;U&quot; Lock</td><td>22</td></tr><tr><td>3303</td><td>Guardian XL &quot;U&quot; Lock</td><td>154</td></tr><tr><td>3304</td><td>Guardian ATB Lock</td><td>56</td></tr><tr><td>3305</td><td>Guardian Mini Lock</td><td>87</td></tr><tr><td>4102</td><td>InFlux Crochet Glove</td><td>198</td></tr><tr><td>4103</td><td>InFlux Crochet Glove</td><td>0</td></tr><tr><td>5201</td><td>Xtreme Adult Helmet</td><td>0</td></tr><tr><td>5202</td><td>Xtreme Adult Helmet</td><td>0</td></tr><tr><td>5203</td><td>Xtreme Adult Helmet</td><td>0</td></tr><tr><td>5204</td><td>Xtreme Adult Helmet</td><td>0</td></tr><tr><td>5205</td><td>Xtreme Adult Helmet</td><td>0</td></tr><tr><td>5206</td><td>Xtreme Adult Helmet</td><td>0</td></tr><tr><td>5207</td><td>Xtreme Youth Helmet</td><td>0</td></tr><tr><td>5208</td><td>Xtreme Youth Helmet</td><td>0</td></tr><tr><td>5301</td><td>Xtreme Mtn Lock</td><td>0</td></tr><tr><td>5302</td><td>Xtreme Rhino Lock</td><td>0</td></tr><tr><td>5303</td><td>Xtreme Titan Lock</td><td>0</td></tr><tr><td>5401</td><td>Xtreme Anatomic Mens Saddle</td><td>0</td></tr><tr><td>5402</td><td>Xtreme Anatomic Ladies Saddle</td><td>0</td></tr><tr><td>5403</td><td>Xtreme Wide MTB Saddle</td><td>0</td></tr><tr><td>5404</td><td>Xtreme Gellite Mens Saddle</td><td>0</td></tr><tr><td>5405</td><td>Xtreme Gellite  Ladies Saddle</td><td>0</td></tr><tr><td>6401</td><td>Roadster Jr BMX Saddle</td><td>75</td></tr><tr><td>6402</td><td>Roadster Micro Mtn Saddle</td><td>124</td></tr><tr><td>6403</td><td>Roadster Mini Mtn Saddle</td><td>165</td></tr><tr><td>7401</td><td>Vesper Comfort ATB Saddle</td><td>41</td></tr><tr><td>7402</td><td>Vesper Comfort Ladies Saddle</td><td>69</td></tr><tr><td>7403</td><td>Vesper Gelflex ATB Saddle</td><td>88</td></tr><tr><td>7404</td><td>Vesper Gelflex Ladies Saddle</td><td>97</td></tr><tr><td>101151</td><td>Descent</td><td>0</td></tr><tr><td>101152</td><td>Descent</td><td>0</td></tr><tr><td>101171</td><td>Descent</td><td>0</td></tr><tr><td>101172</td><td>Descent</td><td>0</td></tr><tr><td>101181</td><td>Descent</td><td>0</td></tr><tr><td>101182</td><td>Descent</td><td>0</td></tr><tr><td>101201</td><td>Descent</td><td>0</td></tr><tr><td>101202</td><td>Descent</td><td>0</td></tr><tr><td>101221</td><td>Descent</td><td>0</td></tr><tr><td>101222</td><td>Descent</td><td>0</td></tr><tr><td>102151</td><td>Mozzie</td><td>0</td></tr><tr><td>102171</td><td>Mozzie</td><td>0</td></tr><tr><td>102181</td><td>Mozzie</td><td>0</td></tr><tr><td>102201</td><td>Mozzie</td><td>0</td></tr><tr><td>102221</td><td>Mozzie</td><td>0</td></tr><tr><td>103151</td><td>Endorphin</td><td>0</td></tr><tr><td>103171</td><td>Endorphin</td><td>0</td></tr><tr><td>103181</td><td>Endorphin</td><td>0</td></tr><tr><td>103201</td><td>Endorphin</td><td>0</td></tr><tr><td>103221</td><td>Endorphin</td><td>0</td></tr><tr><td>201161</td><td>Romeo</td><td>0</td></tr><tr><td>201181</td><td>Romeo</td><td>0</td></tr><tr><td>201201</td><td>Romeo</td><td>0</td></tr><tr><td>201221</td><td>Romeo</td><td>0</td></tr><tr><td>202161</td><td>Wheeler</td><td>0</td></tr><tr><td>202181</td><td>Wheeler</td><td>0</td></tr><tr><td>202201</td><td>Wheeler</td><td>0</td></tr><tr><td>202221</td><td>Wheeler</td><td>0</td></tr><tr><td>301151</td><td>SlickRock</td><td>0</td></tr><tr><td>301161</td><td>SlickRock</td><td>0</td></tr><tr><td>301181</td><td>SlickRock</td><td>0</td></tr><tr><td>301201</td><td>SlickRock</td><td>0</td></tr><tr><td>301221</td><td>SlickRock</td><td>0</td></tr><tr><td>302161</td><td>Rapel</td><td>0</td></tr><tr><td>302162</td><td>Rapel</td><td>0</td></tr><tr><td>302181</td><td>Rapel</td><td>0</td></tr><tr><td>302182</td><td>Rapel</td><td>0</td></tr><tr><td>302201</td><td>Rapel</td><td>0</td></tr><tr><td>302202</td><td>Rapel</td><td>0</td></tr><tr><td>302221</td><td>Rapel</td><td>0</td></tr><tr><td>302222</td><td>Rapel</td><td>0</td></tr><tr><td>303151</td><td>Nicros</td><td>0</td></tr><tr><td>303152</td><td>Nicros</td><td>0</td></tr><tr><td>303161</td><td>Nicros</td><td>0</td></tr><tr><td>303162</td><td>Nicros</td><td>0</td></tr><tr><td>303181</td><td>Nicros</td><td>0</td></tr><tr><td>303182</td><td>Nicros</td><td>0</td></tr><tr><td>303201</td><td>Nicros</td><td>0</td></tr><tr><td>303202</td><td>Nicros</td><td>0</td></tr><tr><td>303221</td><td>Nicros</td><td>0</td></tr><tr><td>303222</td><td>Nicros</td><td>0</td></tr><tr><td>401001</td><td>Mini Nicros</td><td>0</td></tr><tr><td>401002</td><td>Mini Nicros</td><td>0</td></tr><tr><td>402001</td><td>Micro Nicros</td><td>0</td></tr><tr><td>402002</td><td>Micro Nicros</td><td>0</td></tr><tr><td>402003</td><td>Micro Nicros</td><td>4</td></tr><tr><td>403000</td><td>Micro Nicros</td><td>0</td></tr></table>"
                    }
                }
            ],
            "execution_count": 40
        },
        {
            "cell_type": "markdown",
            "source": "Since this is logic we'd like to reuse we can use a stored procedure, a reusable piece of code.\r\n> Do note that a function for this case is also possible, but what is the difference between a function and a stored procedure?",
            "metadata": {}
        },
        {
            "cell_type": "markdown",
            "source": "## Create the stored procedure\r\n### Syntax\r\n```sql\r\nCREATE PROCEDURE <proc_name> [parameter declaration] \r\nAS\r\n<sql_statements> \r\n```\r\n",
            "metadata": {}
        },
        {
            "cell_type": "code",
            "source": "CREATE PROCEDURE GetProductsOutOfStock\r\nAS\r\nSELECT\r\n    ProductID as ID,\r\n    ProductName as Name,\r\n    UnitsInStock as Stock\r\nFROM Product\r\nWHERE UnitsInStock < 250",
            "metadata": {},
            "outputs": [
                {
                    "output_type": "display_data",
                    "data": {
                        "text/html": "Commands completed successfully."
                    },
                    "metadata": {}
                },
                {
                    "output_type": "display_data",
                    "data": {
                        "text/html": "Total execution time: 00:00:00.0079854"
                    },
                    "metadata": {}
                }
            ],
            "execution_count": 46
        },
        {
            "cell_type": "markdown",
            "source": "## Execute the procedure",
            "metadata": {}
        },
        {
            "cell_type": "code",
            "source": "EXECUTE GetProductsOutOfStock\r\n-- EXEC is an alias for EXECUTE",
            "metadata": {},
            "outputs": [
                {
                    "output_type": "display_data",
                    "data": {
                        "text/html": "(89 rows affected)"
                    },
                    "metadata": {}
                },
                {
                    "output_type": "display_data",
                    "data": {
                        "text/html": "Total execution time: 00:00:00.0138158"
                    },
                    "metadata": {}
                },
                {
                    "output_type": "execute_result",
                    "metadata": {},
                    "execution_count": 48,
                    "data": {
                        "application/vnd.dataresource+json": {
                            "schema": {
                                "fields": [
                                    {
                                        "name": "ID"
                                    },
                                    {
                                        "name": "Name"
                                    },
                                    {
                                        "name": "Stock"
                                    }
                                ]
                            },
                            "data": [
                                {
                                    "0": "1104",
                                    "1": "Active Outdoors Crochet Glove",
                                    "2": "5"
                                },
                                {
                                    "0": "2201",
                                    "1": "Triumph Pro Helmet",
                                    "2": "78"
                                },
                                {
                                    "0": "2202",
                                    "1": "Triumph Pro Helmet",
                                    "2": "80"
                                },
                                {
                                    "0": "2203",
                                    "1": "Triumph Pro Helmet",
                                    "2": "55"
                                },
                                {
                                    "0": "2207",
                                    "1": "Triumph Vertigo Helmet",
                                    "2": "89"
                                },
                                {
                                    "0": "2211",
                                    "1": "Triumph Vertigo Helmet",
                                    "2": "92"
                                },
                                {
                                    "0": "2215",
                                    "1": "Triumph Vertigo Helmet",
                                    "2": "69"
                                },
                                {
                                    "0": "3302",
                                    "1": "Guardian \"U\" Lock",
                                    "2": "22"
                                },
                                {
                                    "0": "3304",
                                    "1": "Guardian ATB Lock",
                                    "2": "56"
                                },
                                {
                                    "0": "3305",
                                    "1": "Guardian Mini Lock",
                                    "2": "87"
                                },
                                {
                                    "0": "4103",
                                    "1": "InFlux Crochet Glove",
                                    "2": "0"
                                },
                                {
                                    "0": "5201",
                                    "1": "Xtreme Adult Helmet",
                                    "2": "0"
                                },
                                {
                                    "0": "5202",
                                    "1": "Xtreme Adult Helmet",
                                    "2": "0"
                                },
                                {
                                    "0": "5203",
                                    "1": "Xtreme Adult Helmet",
                                    "2": "0"
                                },
                                {
                                    "0": "5204",
                                    "1": "Xtreme Adult Helmet",
                                    "2": "0"
                                },
                                {
                                    "0": "5205",
                                    "1": "Xtreme Adult Helmet",
                                    "2": "0"
                                },
                                {
                                    "0": "5206",
                                    "1": "Xtreme Adult Helmet",
                                    "2": "0"
                                },
                                {
                                    "0": "5207",
                                    "1": "Xtreme Youth Helmet",
                                    "2": "0"
                                },
                                {
                                    "0": "5208",
                                    "1": "Xtreme Youth Helmet",
                                    "2": "0"
                                },
                                {
                                    "0": "5301",
                                    "1": "Xtreme Mtn Lock",
                                    "2": "0"
                                },
                                {
                                    "0": "5302",
                                    "1": "Xtreme Rhino Lock",
                                    "2": "0"
                                },
                                {
                                    "0": "5303",
                                    "1": "Xtreme Titan Lock",
                                    "2": "0"
                                },
                                {
                                    "0": "5401",
                                    "1": "Xtreme Anatomic Mens Saddle",
                                    "2": "0"
                                },
                                {
                                    "0": "5402",
                                    "1": "Xtreme Anatomic Ladies Saddle",
                                    "2": "0"
                                },
                                {
                                    "0": "5403",
                                    "1": "Xtreme Wide MTB Saddle",
                                    "2": "0"
                                },
                                {
                                    "0": "5404",
                                    "1": "Xtreme Gellite Mens Saddle",
                                    "2": "0"
                                },
                                {
                                    "0": "5405",
                                    "1": "Xtreme Gellite  Ladies Saddle",
                                    "2": "0"
                                },
                                {
                                    "0": "6401",
                                    "1": "Roadster Jr BMX Saddle",
                                    "2": "75"
                                },
                                {
                                    "0": "7401",
                                    "1": "Vesper Comfort ATB Saddle",
                                    "2": "41"
                                },
                                {
                                    "0": "7402",
                                    "1": "Vesper Comfort Ladies Saddle",
                                    "2": "69"
                                },
                                {
                                    "0": "7403",
                                    "1": "Vesper Gelflex ATB Saddle",
                                    "2": "88"
                                },
                                {
                                    "0": "7404",
                                    "1": "Vesper Gelflex Ladies Saddle",
                                    "2": "97"
                                },
                                {
                                    "0": "101151",
                                    "1": "Descent",
                                    "2": "0"
                                },
                                {
                                    "0": "101152",
                                    "1": "Descent",
                                    "2": "0"
                                },
                                {
                                    "0": "101171",
                                    "1": "Descent",
                                    "2": "0"
                                },
                                {
                                    "0": "101172",
                                    "1": "Descent",
                                    "2": "0"
                                },
                                {
                                    "0": "101181",
                                    "1": "Descent",
                                    "2": "0"
                                },
                                {
                                    "0": "101182",
                                    "1": "Descent",
                                    "2": "0"
                                },
                                {
                                    "0": "101201",
                                    "1": "Descent",
                                    "2": "0"
                                },
                                {
                                    "0": "101202",
                                    "1": "Descent",
                                    "2": "0"
                                },
                                {
                                    "0": "101221",
                                    "1": "Descent",
                                    "2": "0"
                                },
                                {
                                    "0": "101222",
                                    "1": "Descent",
                                    "2": "0"
                                },
                                {
                                    "0": "102151",
                                    "1": "Mozzie",
                                    "2": "0"
                                },
                                {
                                    "0": "102171",
                                    "1": "Mozzie",
                                    "2": "0"
                                },
                                {
                                    "0": "102181",
                                    "1": "Mozzie",
                                    "2": "0"
                                },
                                {
                                    "0": "102201",
                                    "1": "Mozzie",
                                    "2": "0"
                                },
                                {
                                    "0": "102221",
                                    "1": "Mozzie",
                                    "2": "0"
                                },
                                {
                                    "0": "103151",
                                    "1": "Endorphin",
                                    "2": "0"
                                },
                                {
                                    "0": "103171",
                                    "1": "Endorphin",
                                    "2": "0"
                                },
                                {
                                    "0": "103181",
                                    "1": "Endorphin",
                                    "2": "0"
                                },
                                {
                                    "0": "103201",
                                    "1": "Endorphin",
                                    "2": "0"
                                },
                                {
                                    "0": "103221",
                                    "1": "Endorphin",
                                    "2": "0"
                                },
                                {
                                    "0": "201161",
                                    "1": "Romeo",
                                    "2": "0"
                                },
                                {
                                    "0": "201181",
                                    "1": "Romeo",
                                    "2": "0"
                                },
                                {
                                    "0": "201201",
                                    "1": "Romeo",
                                    "2": "0"
                                },
                                {
                                    "0": "201221",
                                    "1": "Romeo",
                                    "2": "0"
                                },
                                {
                                    "0": "202161",
                                    "1": "Wheeler",
                                    "2": "0"
                                },
                                {
                                    "0": "202181",
                                    "1": "Wheeler",
                                    "2": "0"
                                },
                                {
                                    "0": "202201",
                                    "1": "Wheeler",
                                    "2": "0"
                                },
                                {
                                    "0": "202221",
                                    "1": "Wheeler",
                                    "2": "0"
                                },
                                {
                                    "0": "301151",
                                    "1": "SlickRock",
                                    "2": "0"
                                },
                                {
                                    "0": "301161",
                                    "1": "SlickRock",
                                    "2": "0"
                                },
                                {
                                    "0": "301181",
                                    "1": "SlickRock",
                                    "2": "0"
                                },
                                {
                                    "0": "301201",
                                    "1": "SlickRock",
                                    "2": "0"
                                },
                                {
                                    "0": "301221",
                                    "1": "SlickRock",
                                    "2": "0"
                                },
                                {
                                    "0": "302161",
                                    "1": "Rapel",
                                    "2": "0"
                                },
                                {
                                    "0": "302162",
                                    "1": "Rapel",
                                    "2": "0"
                                },
                                {
                                    "0": "302181",
                                    "1": "Rapel",
                                    "2": "0"
                                },
                                {
                                    "0": "302182",
                                    "1": "Rapel",
                                    "2": "0"
                                },
                                {
                                    "0": "302201",
                                    "1": "Rapel",
                                    "2": "0"
                                },
                                {
                                    "0": "302202",
                                    "1": "Rapel",
                                    "2": "0"
                                },
                                {
                                    "0": "302221",
                                    "1": "Rapel",
                                    "2": "0"
                                },
                                {
                                    "0": "302222",
                                    "1": "Rapel",
                                    "2": "0"
                                },
                                {
                                    "0": "303151",
                                    "1": "Nicros",
                                    "2": "0"
                                },
                                {
                                    "0": "303152",
                                    "1": "Nicros",
                                    "2": "0"
                                },
                                {
                                    "0": "303161",
                                    "1": "Nicros",
                                    "2": "0"
                                },
                                {
                                    "0": "303162",
                                    "1": "Nicros",
                                    "2": "0"
                                },
                                {
                                    "0": "303181",
                                    "1": "Nicros",
                                    "2": "0"
                                },
                                {
                                    "0": "303182",
                                    "1": "Nicros",
                                    "2": "0"
                                },
                                {
                                    "0": "303201",
                                    "1": "Nicros",
                                    "2": "0"
                                },
                                {
                                    "0": "303202",
                                    "1": "Nicros",
                                    "2": "0"
                                },
                                {
                                    "0": "303221",
                                    "1": "Nicros",
                                    "2": "0"
                                },
                                {
                                    "0": "303222",
                                    "1": "Nicros",
                                    "2": "0"
                                },
                                {
                                    "0": "401001",
                                    "1": "Mini Nicros",
                                    "2": "0"
                                },
                                {
                                    "0": "401002",
                                    "1": "Mini Nicros",
                                    "2": "0"
                                },
                                {
                                    "0": "402001",
                                    "1": "Micro Nicros",
                                    "2": "0"
                                },
                                {
                                    "0": "402002",
                                    "1": "Micro Nicros",
                                    "2": "0"
                                },
                                {
                                    "0": "402003",
                                    "1": "Micro Nicros",
                                    "2": "4"
                                },
                                {
                                    "0": "403000",
                                    "1": "Micro Nicros",
                                    "2": "0"
                                }
                            ]
                        },
                        "text/html": "<table><tr><th>ID</th><th>Name</th><th>Stock</th></tr><tr><td>1104</td><td>Active Outdoors Crochet Glove</td><td>5</td></tr><tr><td>2201</td><td>Triumph Pro Helmet</td><td>78</td></tr><tr><td>2202</td><td>Triumph Pro Helmet</td><td>80</td></tr><tr><td>2203</td><td>Triumph Pro Helmet</td><td>55</td></tr><tr><td>2207</td><td>Triumph Vertigo Helmet</td><td>89</td></tr><tr><td>2211</td><td>Triumph Vertigo Helmet</td><td>92</td></tr><tr><td>2215</td><td>Triumph Vertigo Helmet</td><td>69</td></tr><tr><td>3302</td><td>Guardian &quot;U&quot; Lock</td><td>22</td></tr><tr><td>3304</td><td>Guardian ATB Lock</td><td>56</td></tr><tr><td>3305</td><td>Guardian Mini Lock</td><td>87</td></tr><tr><td>4103</td><td>InFlux Crochet Glove</td><td>0</td></tr><tr><td>5201</td><td>Xtreme Adult Helmet</td><td>0</td></tr><tr><td>5202</td><td>Xtreme Adult Helmet</td><td>0</td></tr><tr><td>5203</td><td>Xtreme Adult Helmet</td><td>0</td></tr><tr><td>5204</td><td>Xtreme Adult Helmet</td><td>0</td></tr><tr><td>5205</td><td>Xtreme Adult Helmet</td><td>0</td></tr><tr><td>5206</td><td>Xtreme Adult Helmet</td><td>0</td></tr><tr><td>5207</td><td>Xtreme Youth Helmet</td><td>0</td></tr><tr><td>5208</td><td>Xtreme Youth Helmet</td><td>0</td></tr><tr><td>5301</td><td>Xtreme Mtn Lock</td><td>0</td></tr><tr><td>5302</td><td>Xtreme Rhino Lock</td><td>0</td></tr><tr><td>5303</td><td>Xtreme Titan Lock</td><td>0</td></tr><tr><td>5401</td><td>Xtreme Anatomic Mens Saddle</td><td>0</td></tr><tr><td>5402</td><td>Xtreme Anatomic Ladies Saddle</td><td>0</td></tr><tr><td>5403</td><td>Xtreme Wide MTB Saddle</td><td>0</td></tr><tr><td>5404</td><td>Xtreme Gellite Mens Saddle</td><td>0</td></tr><tr><td>5405</td><td>Xtreme Gellite  Ladies Saddle</td><td>0</td></tr><tr><td>6401</td><td>Roadster Jr BMX Saddle</td><td>75</td></tr><tr><td>7401</td><td>Vesper Comfort ATB Saddle</td><td>41</td></tr><tr><td>7402</td><td>Vesper Comfort Ladies Saddle</td><td>69</td></tr><tr><td>7403</td><td>Vesper Gelflex ATB Saddle</td><td>88</td></tr><tr><td>7404</td><td>Vesper Gelflex Ladies Saddle</td><td>97</td></tr><tr><td>101151</td><td>Descent</td><td>0</td></tr><tr><td>101152</td><td>Descent</td><td>0</td></tr><tr><td>101171</td><td>Descent</td><td>0</td></tr><tr><td>101172</td><td>Descent</td><td>0</td></tr><tr><td>101181</td><td>Descent</td><td>0</td></tr><tr><td>101182</td><td>Descent</td><td>0</td></tr><tr><td>101201</td><td>Descent</td><td>0</td></tr><tr><td>101202</td><td>Descent</td><td>0</td></tr><tr><td>101221</td><td>Descent</td><td>0</td></tr><tr><td>101222</td><td>Descent</td><td>0</td></tr><tr><td>102151</td><td>Mozzie</td><td>0</td></tr><tr><td>102171</td><td>Mozzie</td><td>0</td></tr><tr><td>102181</td><td>Mozzie</td><td>0</td></tr><tr><td>102201</td><td>Mozzie</td><td>0</td></tr><tr><td>102221</td><td>Mozzie</td><td>0</td></tr><tr><td>103151</td><td>Endorphin</td><td>0</td></tr><tr><td>103171</td><td>Endorphin</td><td>0</td></tr><tr><td>103181</td><td>Endorphin</td><td>0</td></tr><tr><td>103201</td><td>Endorphin</td><td>0</td></tr><tr><td>103221</td><td>Endorphin</td><td>0</td></tr><tr><td>201161</td><td>Romeo</td><td>0</td></tr><tr><td>201181</td><td>Romeo</td><td>0</td></tr><tr><td>201201</td><td>Romeo</td><td>0</td></tr><tr><td>201221</td><td>Romeo</td><td>0</td></tr><tr><td>202161</td><td>Wheeler</td><td>0</td></tr><tr><td>202181</td><td>Wheeler</td><td>0</td></tr><tr><td>202201</td><td>Wheeler</td><td>0</td></tr><tr><td>202221</td><td>Wheeler</td><td>0</td></tr><tr><td>301151</td><td>SlickRock</td><td>0</td></tr><tr><td>301161</td><td>SlickRock</td><td>0</td></tr><tr><td>301181</td><td>SlickRock</td><td>0</td></tr><tr><td>301201</td><td>SlickRock</td><td>0</td></tr><tr><td>301221</td><td>SlickRock</td><td>0</td></tr><tr><td>302161</td><td>Rapel</td><td>0</td></tr><tr><td>302162</td><td>Rapel</td><td>0</td></tr><tr><td>302181</td><td>Rapel</td><td>0</td></tr><tr><td>302182</td><td>Rapel</td><td>0</td></tr><tr><td>302201</td><td>Rapel</td><td>0</td></tr><tr><td>302202</td><td>Rapel</td><td>0</td></tr><tr><td>302221</td><td>Rapel</td><td>0</td></tr><tr><td>302222</td><td>Rapel</td><td>0</td></tr><tr><td>303151</td><td>Nicros</td><td>0</td></tr><tr><td>303152</td><td>Nicros</td><td>0</td></tr><tr><td>303161</td><td>Nicros</td><td>0</td></tr><tr><td>303162</td><td>Nicros</td><td>0</td></tr><tr><td>303181</td><td>Nicros</td><td>0</td></tr><tr><td>303182</td><td>Nicros</td><td>0</td></tr><tr><td>303201</td><td>Nicros</td><td>0</td></tr><tr><td>303202</td><td>Nicros</td><td>0</td></tr><tr><td>303221</td><td>Nicros</td><td>0</td></tr><tr><td>303222</td><td>Nicros</td><td>0</td></tr><tr><td>401001</td><td>Mini Nicros</td><td>0</td></tr><tr><td>401002</td><td>Mini Nicros</td><td>0</td></tr><tr><td>402001</td><td>Micro Nicros</td><td>0</td></tr><tr><td>402002</td><td>Micro Nicros</td><td>0</td></tr><tr><td>402003</td><td>Micro Nicros</td><td>4</td></tr><tr><td>403000</td><td>Micro Nicros</td><td>0</td></tr></table>"
                    }
                }
            ],
            "execution_count": 48
        },
        {
            "cell_type": "markdown",
            "source": "## Delete a stored procedure\r\n",
            "metadata": {}
        },
        {
            "cell_type": "code",
            "source": "DROP PROCEDURE GetProductsOutOfStock  ",
            "metadata": {},
            "outputs": [
                {
                    "output_type": "display_data",
                    "data": {
                        "text/html": "Commands completed successfully."
                    },
                    "metadata": {}
                },
                {
                    "output_type": "display_data",
                    "data": {
                        "text/html": "Total execution time: 00:00:00.0067177"
                    },
                    "metadata": {}
                }
            ],
            "execution_count": 44
        },
        {
            "cell_type": "markdown",
            "source": "## Change a stored procedure\r\nWe only want to see which products are out of stock if the `UnitsInStock` is less than `100` instead of `250`",
            "metadata": {}
        },
        {
            "cell_type": "code",
            "source": "ALTER PROCEDURE GetProductsOutOfStock\r\nAS\r\nSELECT\r\n    ProductID as ID,\r\n    ProductName as Name,\r\n    UnitsInStock as Stock\r\nFROM Product\r\nWHERE UnitsInStock < 100",
            "metadata": {},
            "outputs": [
                {
                    "output_type": "display_data",
                    "data": {
                        "text/html": "Commands completed successfully."
                    },
                    "metadata": {}
                },
                {
                    "output_type": "display_data",
                    "data": {
                        "text/html": "Total execution time: 00:00:00.0026243"
                    },
                    "metadata": {}
                }
            ],
            "execution_count": 47
        },
        {
            "cell_type": "markdown",
            "source": "## Using input parameters\r\nSince we only want to see products of a certain supplier, we'll add an `input` parameter",
            "metadata": {}
        },
        {
            "cell_type": "code",
            "source": "ALTER PROCEDURE GetProductsOutOfStock \r\n    @supplierId INT\r\nAS\r\nSELECT\r\n    ProductID as ID,\r\n    ProductName as Name,\r\n    UnitsInStock as Stock\r\nFROM Product\r\nWHERE   UnitsInStock < 100\r\nAND     SupplierId = @supplierId",
            "metadata": {},
            "outputs": [
                {
                    "output_type": "display_data",
                    "data": {
                        "text/html": "Commands completed successfully."
                    },
                    "metadata": {}
                },
                {
                    "output_type": "display_data",
                    "data": {
                        "text/html": "Total execution time: 00:00:00.0341868"
                    },
                    "metadata": {}
                }
            ],
            "execution_count": 49
        },
        {
            "cell_type": "markdown",
            "source": "## Execute the procedure with an input variable\r\n",
            "metadata": {}
        },
        {
            "cell_type": "code",
            "source": "EXECUTE GetProductsOutOfStock 2",
            "metadata": {},
            "outputs": [
                {
                    "output_type": "display_data",
                    "data": {
                        "text/html": "(7 rows affected)"
                    },
                    "metadata": {}
                },
                {
                    "output_type": "display_data",
                    "data": {
                        "text/html": "Total execution time: 00:00:00.0102246"
                    },
                    "metadata": {}
                },
                {
                    "output_type": "execute_result",
                    "metadata": {},
                    "execution_count": 50,
                    "data": {
                        "application/vnd.dataresource+json": {
                            "schema": {
                                "fields": [
                                    {
                                        "name": "ID"
                                    },
                                    {
                                        "name": "Name"
                                    },
                                    {
                                        "name": "Stock"
                                    }
                                ]
                            },
                            "data": [
                                {
                                    "0": "2201",
                                    "1": "Triumph Pro Helmet",
                                    "2": "78"
                                },
                                {
                                    "0": "2202",
                                    "1": "Triumph Pro Helmet",
                                    "2": "80"
                                },
                                {
                                    "0": "2203",
                                    "1": "Triumph Pro Helmet",
                                    "2": "55"
                                },
                                {
                                    "0": "2207",
                                    "1": "Triumph Vertigo Helmet",
                                    "2": "89"
                                },
                                {
                                    "0": "2211",
                                    "1": "Triumph Vertigo Helmet",
                                    "2": "92"
                                },
                                {
                                    "0": "2215",
                                    "1": "Triumph Vertigo Helmet",
                                    "2": "69"
                                },
                                {
                                    "0": "403000",
                                    "1": "Micro Nicros",
                                    "2": "0"
                                }
                            ]
                        },
                        "text/html": "<table><tr><th>ID</th><th>Name</th><th>Stock</th></tr><tr><td>2201</td><td>Triumph Pro Helmet</td><td>78</td></tr><tr><td>2202</td><td>Triumph Pro Helmet</td><td>80</td></tr><tr><td>2203</td><td>Triumph Pro Helmet</td><td>55</td></tr><tr><td>2207</td><td>Triumph Vertigo Helmet</td><td>89</td></tr><tr><td>2211</td><td>Triumph Vertigo Helmet</td><td>92</td></tr><tr><td>2215</td><td>Triumph Vertigo Helmet</td><td>69</td></tr><tr><td>403000</td><td>Micro Nicros</td><td>0</td></tr></table>"
                    }
                }
            ],
            "execution_count": 50
        },
        {
            "cell_type": "markdown",
            "source": "## Using output parameters\r\nSince we also want to see the name of the supplier, we'll add an `output` parameter, `supplierName`",
            "metadata": {}
        },
        {
            "cell_type": "code",
            "source": "ALTER PROCEDURE GetProductsOutOfStock \r\n    @supplierId INT,\r\n    @supplierName NVARCHAR(MAX) OUTPUT\r\nAS\r\nSELECT\r\n    ProductID as ID,\r\n    ProductName as Name,\r\n    UnitsInStock as Stock\r\nFROM Product\r\nWHERE   UnitsInStock < 100\r\nAND     SupplierId = @supplierId\r\n\r\nSELECT @supplierName = SupplierName\r\nFROM Supplier\r\nWHERE SupplierId = @supplierId\r\n",
            "metadata": {},
            "outputs": [
                {
                    "output_type": "display_data",
                    "data": {
                        "text/html": "Commands completed successfully."
                    },
                    "metadata": {}
                },
                {
                    "output_type": "display_data",
                    "data": {
                        "text/html": "Total execution time: 00:00:00.0052680"
                    },
                    "metadata": {}
                }
            ],
            "execution_count": 51
        },
        {
            "cell_type": "markdown",
            "source": "## Execute the procedure with an input and output variable\r\n\r\n\r\n",
            "metadata": {}
        },
        {
            "cell_type": "code",
            "source": "DECLARE @supplierName NVARCHAR(max)\r\nEXECUTE GetProductsOutOfStock 2, @supplierName OUTPUT\r\nPRINT 'Products out of stock for supplier:' + @supplierName",
            "metadata": {},
            "outputs": [
                {
                    "output_type": "display_data",
                    "data": {
                        "text/html": "(7 rows affected)"
                    },
                    "metadata": {}
                },
                {
                    "output_type": "display_data",
                    "data": {
                        "text/html": "Products out of stock for supplier:Triumph"
                    },
                    "metadata": {}
                },
                {
                    "output_type": "display_data",
                    "data": {
                        "text/html": "Total execution time: 00:00:00.0099680"
                    },
                    "metadata": {}
                },
                {
                    "output_type": "execute_result",
                    "metadata": {},
                    "execution_count": 52,
                    "data": {
                        "application/vnd.dataresource+json": {
                            "schema": {
                                "fields": [
                                    {
                                        "name": "ID"
                                    },
                                    {
                                        "name": "Name"
                                    },
                                    {
                                        "name": "Stock"
                                    }
                                ]
                            },
                            "data": [
                                {
                                    "0": "2201",
                                    "1": "Triumph Pro Helmet",
                                    "2": "78"
                                },
                                {
                                    "0": "2202",
                                    "1": "Triumph Pro Helmet",
                                    "2": "80"
                                },
                                {
                                    "0": "2203",
                                    "1": "Triumph Pro Helmet",
                                    "2": "55"
                                },
                                {
                                    "0": "2207",
                                    "1": "Triumph Vertigo Helmet",
                                    "2": "89"
                                },
                                {
                                    "0": "2211",
                                    "1": "Triumph Vertigo Helmet",
                                    "2": "92"
                                },
                                {
                                    "0": "2215",
                                    "1": "Triumph Vertigo Helmet",
                                    "2": "69"
                                },
                                {
                                    "0": "403000",
                                    "1": "Micro Nicros",
                                    "2": "0"
                                }
                            ]
                        },
                        "text/html": "<table><tr><th>ID</th><th>Name</th><th>Stock</th></tr><tr><td>2201</td><td>Triumph Pro Helmet</td><td>78</td></tr><tr><td>2202</td><td>Triumph Pro Helmet</td><td>80</td></tr><tr><td>2203</td><td>Triumph Pro Helmet</td><td>55</td></tr><tr><td>2207</td><td>Triumph Vertigo Helmet</td><td>89</td></tr><tr><td>2211</td><td>Triumph Vertigo Helmet</td><td>92</td></tr><tr><td>2215</td><td>Triumph Vertigo Helmet</td><td>69</td></tr><tr><td>403000</td><td>Micro Nicros</td><td>0</td></tr></table>"
                    }
                }
            ],
            "execution_count": 52
        }
    ]
}