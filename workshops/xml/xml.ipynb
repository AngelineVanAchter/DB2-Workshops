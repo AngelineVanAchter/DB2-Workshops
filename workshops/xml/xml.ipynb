{
    "metadata": {
        "kernelspec": {
            "name": "SQL",
            "display_name": "SQL",
            "language": "sql"
        },
        "language_info": {
            "name": "sql",
            "version": ""
        }
    },
    "nbformat_minor": 2,
    "nbformat": 4,
    "cells": [
        {
            "cell_type": "markdown",
            "source": "# Dataformats - XML\r\nWe'd like to exchange some data with another partner, the partner uses a NoSQL database provider and we don't know how his application stores the data internally. We agreed to use XML as data format.\r\n> You can only use JSON (which is quite common nowadays) by replacing the XML with JSON statements.",
            "metadata": {}
        },
        {
            "cell_type": "markdown",
            "source": "## Transforming our data\r\nFor of all we'd like to extract all our `products` to the partner in XML format.",
            "metadata": {}
        },
        {
            "cell_type": "code",
            "source": "SELECT TOP 3 * \r\nFROM Product\r\nFOR XML AUTO",
            "metadata": {},
            "outputs": [],
            "execution_count": 8
        },
        {
            "cell_type": "markdown",
            "source": "## Manipulating our data\r\nTo manipulate our data we can just adjust the `SELECT` clause. We only like to share the `name`, `sizes` and `cost`",
            "metadata": {}
        },
        {
            "cell_type": "code",
            "source": "SELECT TOP 3 \r\n    ProductName AS Name,\r\n    Price AS Price,\r\n    Sizes AS Sizes\r\nFROM Product\r\nFOR XML AUTO",
            "metadata": {},
            "outputs": [],
            "execution_count": 9
        },
        {
            "cell_type": "markdown",
            "source": "# Joining our data\r\nThe partner would also like to know the `type` of the `products`, we can easily join the `ProductType` table.",
            "metadata": {}
        },
        {
            "cell_type": "code",
            "source": "SELECT TOP 3 \r\n    ProductName AS Name,\r\n    Price AS Price,\r\n    Sizes AS Sizes,\r\n    ProductTypeName AS Type\r\nFROM Product\r\nJOIN ProductType on ProductType.ProductTypeID = Product.ProductTypeID\r\nFOR XML AUTO",
            "metadata": {},
            "outputs": [],
            "execution_count": 10
        },
        {
            "cell_type": "markdown",
            "source": "## Storing Data\r\nLet's say if we inverted the transaction, we'll be **receiving** XML data instead of sending it. You can easily create a XML data column in SQL Server or use variables to store information. ",
            "metadata": {}
        },
        {
            "cell_type": "code",
            "source": "DROP TABLE TestXmlTable;\r\n\r\nCREATE TABLE TestXmlTable(\r\n    Col1 INT PRIMARY KEY IDENTITY,\r\n    Col2 XML -- see what we did here?\r\n);\r\n",
            "metadata": {},
            "outputs": [],
            "execution_count": 12
        },
        {
            "cell_type": "markdown",
            "source": "To insert data into the table we can create a variable or direct insert a XML string. Manipulating data is about the same so you'll get the idea.",
            "metadata": {}
        },
        {
            "cell_type": "code",
            "source": "-- Clear the table's data.\r\nDELETE FROM TestXmlTable;\r\n\r\n-- Assign a XML like string to a variable\r\nDECLARE @myString VARCHAR(100)   \r\nSET @myString = '<Cust><Fname>Andrew</Fname><Lname>Fuller</Lname></Cust>' \r\n\r\n-- Insert XML Data into the table\r\nINSERT INTO TestXmlTable(Col2)\r\nVALUES(@myString)\r\n\r\nSELECT * FROM TestXmlTable",
            "metadata": {},
            "outputs": [],
            "execution_count": 18
        },
        {
            "cell_type": "markdown",
            "source": "# Bulk Insert Data\r\nTo insert data by bulk we can use the `OPENROWSET()` statement\r\nThe following example shows how to insert a row in table `T1`. The value of the XML column is loaded from file `data\\xmlsample.xml` as BLOB.\r\n> It's required to have the file downloaded at the `C:\\temp\\data` location or change the relative path if needed.\r\n\r\nContents of the xmlsample.xml\r\n```xml\r\n<?xml version=\"1.0\" encoding=\"UTF-8\"?>  \r\n<Root>  \r\n    <ProductDescription ProductModelID=\"5\">  \r\n        <Summary>Some Text</Summary>  \r\n    </ProductDescription>  \r\n</Root> \r\n```",
            "metadata": {}
        },
        {
            "cell_type": "code",
            "source": "-- Clear the table's data.\r\nDELETE FROM TestXmlTable;\r\n\r\n-- Insert\r\nINSERT INTO TestXmlTable(Col2)\r\nSELECT * FROM OPENROWSET(  \r\n   BULK 'C:\\temp\\data\\xmlsample.xml',  \r\n   SINGLE_BLOB) as Col2;  \r\n\r\n-- Read the data.\r\nSELECT * FROM TestXmlTable",
            "metadata": {},
            "outputs": [],
            "execution_count": 5
        },
        {
            "cell_type": "markdown",
            "source": "# Reading XML columns with `XQuery`\r\nLet's state that we only want to see the `<Summary>` of a product, we can do so using `XQuery`.",
            "metadata": {}
        },
        {
            "cell_type": "code",
            "source": "SELECT Col2.query('/Root/ProductDescription/Summary') \r\nFROM TestXmlTable",
            "metadata": {},
            "outputs": [
                {
                    "output_type": "display_data",
                    "data": {
                        "text/html": "(1 row affected)"
                    },
                    "metadata": {}
                },
                {
                    "output_type": "display_data",
                    "data": {
                        "text/html": "Total execution time: 00:00:00.0059307"
                    },
                    "metadata": {}
                },
                {
                    "output_type": "execute_result",
                    "metadata": {},
                    "execution_count": 11,
                    "data": {
                        "application/vnd.dataresource+json": {
                            "schema": {
                                "fields": [
                                    {
                                        "name": "(No column name)"
                                    }
                                ]
                            },
                            "data": [
                                {
                                    "0": "<Summary>Some Text</Summary>"
                                }
                            ]
                        },
                        "text/html": "<table><tr><th>(No column name)</th></tr><tr><td>&lt;Summary&gt;Some Text&lt;/Summary&gt;</td></tr></table>"
                    }
                }
            ],
            "execution_count": 11
        }
    ]
}